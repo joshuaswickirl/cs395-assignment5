{
 "cells": [
  {
   "cell_type": "markdown",
   "metadata": {},
   "source": [
    "# CS395 - Assignment 5\n",
    "### Multivariate LSTMs\n",
    "\n",
    "By: Joshua Swick  \n",
    "Date: Feb 20, 2019"
   ]
  },
  {
   "cell_type": "markdown",
   "metadata": {},
   "source": [
    "## Multiple Input Series"
   ]
  },
  {
   "cell_type": "markdown",
   "metadata": {},
   "source": [
    "### 1.\n",
    "Run the given code once and show the resulting output."
   ]
  },
  {
   "cell_type": "code",
   "execution_count": 11,
   "metadata": {},
   "outputs": [],
   "source": [
    "# multivariate data preparation\n",
    "from numpy import array\n",
    "from numpy import hstack\n",
    "# multivariate lstm\n",
    "from numpy import array\n",
    "from numpy import hstack\n",
    "from keras.models import Sequential\n",
    "from keras.layers import LSTM\n",
    "from keras.layers import Dense"
   ]
  },
  {
   "cell_type": "code",
   "execution_count": 10,
   "metadata": {},
   "outputs": [
    {
     "name": "stdout",
     "output_type": "stream",
     "text": [
      "[[ 10  15  25]\n",
      " [ 20  25  45]\n",
      " [ 30  35  65]\n",
      " [ 40  45  85]\n",
      " [ 50  55 105]\n",
      " [ 60  65 125]\n",
      " [ 70  75 145]\n",
      " [ 80  85 165]\n",
      " [ 90  95 185]]\n"
     ]
    }
   ],
   "source": [
    "# define input sequence\n",
    "in_seq1 = array([10, 20, 30, 40, 50, 60, 70, 80, 90])\n",
    "in_seq2 = array([15, 25, 35, 45, 55, 65, 75, 85, 95])\n",
    "out_seq = array([in_seq1[i]+in_seq2[i] for i in range(len(in_seq1))])\n",
    "# convert to [rows, columns] structure\n",
    "in_seq1 = in_seq1.reshape((len(in_seq1), 1))\n",
    "in_seq2 = in_seq2.reshape((len(in_seq2), 1))\n",
    "out_seq = out_seq.reshape((len(out_seq), 1))\n",
    "# horizontally stack columns\n",
    "dataset = hstack((in_seq1, in_seq2, out_seq))\n",
    "print(dataset)"
   ]
  },
  {
   "cell_type": "markdown",
   "metadata": {},
   "source": [
    "### 2.\n",
    "Run the above code and show the resulting output."
   ]
  },
  {
   "cell_type": "code",
   "execution_count": 12,
   "metadata": {},
   "outputs": [
    {
     "name": "stdout",
     "output_type": "stream",
     "text": [
      "(7, 3, 2) (7,)\n",
      "[[10 15]\n",
      " [20 25]\n",
      " [30 35]] 65\n",
      "[[20 25]\n",
      " [30 35]\n",
      " [40 45]] 85\n",
      "[[30 35]\n",
      " [40 45]\n",
      " [50 55]] 105\n",
      "[[40 45]\n",
      " [50 55]\n",
      " [60 65]] 125\n",
      "[[50 55]\n",
      " [60 65]\n",
      " [70 75]] 145\n",
      "[[60 65]\n",
      " [70 75]\n",
      " [80 85]] 165\n",
      "[[70 75]\n",
      " [80 85]\n",
      " [90 95]] 185\n"
     ]
    }
   ],
   "source": [
    "# split a multivariate sequence into samples\n",
    "def split_sequences(sequences, n_steps):\n",
    "    X, y = list(), list()\n",
    "    for i in range(len(sequences)):\n",
    "        # find the end of this pattern\n",
    "        end_ix = i + n_steps\n",
    "        # check if we are beyond the dataset\n",
    "        if end_ix > len(sequences):\n",
    "            break\n",
    "        # gather input and output parts of the pattern\n",
    "        seq_x, seq_y = sequences[i:end_ix, :-1], sequences[end_ix-1, -1]\n",
    "        X.append(seq_x)\n",
    "        y.append(seq_y)\n",
    "    return array(X), array(y)\n",
    "\n",
    "# define input sequence\n",
    "in_seq1 = array([10, 20, 30, 40, 50, 60, 70, 80, 90])\n",
    "in_seq2 = array([15, 25, 35, 45, 55, 65, 75, 85, 95])\n",
    "out_seq = array([in_seq1[i]+in_seq2[i] for i in range(len(in_seq1))])\n",
    "\n",
    "# convert to [rows, columns] structure\n",
    "in_seq1 = in_seq1.reshape((len(in_seq1), 1))\n",
    "in_seq2 = in_seq2.reshape((len(in_seq2), 1))\n",
    "out_seq = out_seq.reshape((len(out_seq), 1))\n",
    "\n",
    "# horizontally stack columns\n",
    "dataset = hstack((in_seq1, in_seq2, out_seq))\n",
    "\n",
    "# choose a number of time steps\n",
    "n_steps = 3\n",
    "\n",
    "# convert into input/output\n",
    "X, y = split_sequences(dataset, n_steps)\n",
    "print(X.shape, y.shape)\n",
    "\n",
    "# summarize the data\n",
    "for i in range(len(X)):\n",
    "    print(X[i], y[i])"
   ]
  },
  {
   "cell_type": "markdown",
   "metadata": {},
   "source": [
    "### 3.\n",
    "Run the given code 3 times. Show input once and all outputs."
   ]
  },
  {
   "cell_type": "code",
   "execution_count": 23,
   "metadata": {},
   "outputs": [
    {
     "name": "stdout",
     "output_type": "stream",
     "text": [
      "Multivariate Vanilla LSTM, run 1: [[207.51753]]\n",
      "Multivariate Vanilla LSTM, run 2: [[208.62448]]\n",
      "Multivariate Vanilla LSTM, run 3: [[214.9445]]\n",
      "\n",
      "Input:\n",
      "[[[ 80  85]\n",
      "  [ 90  95]\n",
      "  [100 105]]]\n"
     ]
    }
   ],
   "source": [
    "# define input sequence\n",
    "in_seq1 = array([10, 20, 30, 40, 50, 60, 70, 80, 90])\n",
    "in_seq2 = array([15, 25, 35, 45, 55, 65, 75, 85, 95])\n",
    "out_seq = array([in_seq1[i]+in_seq2[i] for i in range(len(in_seq1))])\n",
    "\n",
    "# convert to [rows, columns] structure\n",
    "in_seq1 = in_seq1.reshape((len(in_seq1), 1))\n",
    "in_seq2 = in_seq2.reshape((len(in_seq2), 1))\n",
    "out_seq = out_seq.reshape((len(out_seq), 1))\n",
    "\n",
    "# horizontally stack columns\n",
    "dataset = hstack((in_seq1, in_seq2, out_seq))\n",
    "\n",
    "# choose a number of time steps\n",
    "n_steps = 3\n",
    "\n",
    "# convert into input/output\n",
    "X, y = split_sequences(dataset, n_steps)\n",
    "\n",
    "# the dataset knows the number of features, e.g. 2\n",
    "n_features = X.shape[2]\n",
    "\n",
    "for run in range(3):\n",
    "    # define model\n",
    "    model = Sequential()\n",
    "    model.add(LSTM(50, activation='relu', input_shape=(n_steps, n_features)))\n",
    "    model.add(Dense(1))\n",
    "    model.compile(optimizer='adam', loss='mse')\n",
    "    # fit model\n",
    "    model.fit(X, y, epochs=200, verbose=0)\n",
    "    # demonstrate prediction\n",
    "    x_input = array([[80, 85], [90, 95], [100, 105]])\n",
    "    x_input = x_input.reshape((1, n_steps, n_features))\n",
    "\n",
    "    yhat = model.predict(x_input, verbose=0)\n",
    "    print(f\"Multivariate Vanilla LSTM, run {run+1}: {yhat}\")\n",
    "\n",
    "print(f\"\\nInput:\\n{x_input}\")"
   ]
  },
  {
   "cell_type": "markdown",
   "metadata": {},
   "source": [
    "### 4.\n",
    "Change the activation function from 'relu' to 2 others. Run 3 times show code and all outputs."
   ]
  },
  {
   "cell_type": "code",
   "execution_count": 24,
   "metadata": {},
   "outputs": [
    {
     "name": "stdout",
     "output_type": "stream",
     "text": [
      "Multivariate Vanilla LSTM, TanH activation function, run 1: [[11.400594]]\n",
      "Multivariate Vanilla LSTM, TanH activation function, run 2: [[10.514781]]\n",
      "Multivariate Vanilla LSTM, TanH activation function, run 3: [[8.939142]]\n"
     ]
    }
   ],
   "source": [
    "for run in range(3):\n",
    "    # define model\n",
    "    model = Sequential()\n",
    "    model.add(LSTM(50, activation='tanh', input_shape=(n_steps, n_features)))  # Tanh activation function\n",
    "    model.add(Dense(1))\n",
    "    model.compile(optimizer='adam', loss='mse')\n",
    "    # fit model\n",
    "    model.fit(X, y, epochs=200, verbose=0)\n",
    "    # demonstrate prediction\n",
    "    x_input = array([[80, 85], [90, 95], [100, 105]])\n",
    "    x_input = x_input.reshape((1, n_steps, n_features))\n",
    "\n",
    "    yhat = model.predict(x_input, verbose=0)\n",
    "    print(f\"Multivariate Vanilla LSTM, TanH activation function, run {run+1}: {yhat}\")"
   ]
  },
  {
   "cell_type": "code",
   "execution_count": 25,
   "metadata": {},
   "outputs": [
    {
     "name": "stdout",
     "output_type": "stream",
     "text": [
      "Multivariate Vanilla LSTM, Sigmoid activation function, run 1: [[6.368427]]\n",
      "Multivariate Vanilla LSTM, Sigmoid activation function, run 2: [[8.053413]]\n",
      "Multivariate Vanilla LSTM, Sigmoid activation function, run 3: [[6.3933735]]\n"
     ]
    }
   ],
   "source": [
    "for run in range(3):\n",
    "    # define model\n",
    "    model = Sequential()\n",
    "    model.add(LSTM(50, activation='sigmoid', input_shape=(n_steps, n_features)))  # Sigmoid activation function\n",
    "    model.add(Dense(1))\n",
    "    model.compile(optimizer='adam', loss='mse')\n",
    "    # fit model\n",
    "    model.fit(X, y, epochs=200, verbose=0)\n",
    "    # demonstrate prediction\n",
    "    x_input = array([[80, 85], [90, 95], [100, 105]])\n",
    "    x_input = x_input.reshape((1, n_steps, n_features))\n",
    "\n",
    "    yhat = model.predict(x_input, verbose=0)\n",
    "    print(f\"Multivariate Vanilla LSTM, Sigmoid activation function, run {run+1}: {yhat}\")"
   ]
  },
  {
   "cell_type": "markdown",
   "metadata": {},
   "source": [
    "## Multiple Parallel Series"
   ]
  },
  {
   "cell_type": "markdown",
   "metadata": {},
   "source": [
    "### 5.\n",
    "Run the given code, show the code and resulting output."
   ]
  },
  {
   "cell_type": "code",
   "execution_count": 28,
   "metadata": {},
   "outputs": [],
   "source": [
    "# split a multivariate sequence into samples\n",
    "def split_sequences(sequences, n_steps):\n",
    "    X, y = list(), list()\n",
    "    for i in range(len(sequences)):\n",
    "        # find the end of this pattern\n",
    "        end_ix = i + n_steps\n",
    "        # check if we are beyond the dataset\n",
    "        if end_ix > len(sequences)-1:\n",
    "            break\n",
    "        # gather input and output parts of the pattern\n",
    "        seq_x, seq_y = sequences[i:end_ix, :], sequences[end_ix, :]\n",
    "        X.append(seq_x)\n",
    "        y.append(seq_y)\n",
    "    return array(X), array(y)"
   ]
  },
  {
   "cell_type": "code",
   "execution_count": 29,
   "metadata": {},
   "outputs": [
    {
     "name": "stdout",
     "output_type": "stream",
     "text": [
      "(6, 3, 3) (6, 3)\n",
      "[[10 15 25]\n",
      " [20 25 45]\n",
      " [30 35 65]] [40 45 85]\n",
      "[[20 25 45]\n",
      " [30 35 65]\n",
      " [40 45 85]] [ 50  55 105]\n",
      "[[ 30  35  65]\n",
      " [ 40  45  85]\n",
      " [ 50  55 105]] [ 60  65 125]\n",
      "[[ 40  45  85]\n",
      " [ 50  55 105]\n",
      " [ 60  65 125]] [ 70  75 145]\n",
      "[[ 50  55 105]\n",
      " [ 60  65 125]\n",
      " [ 70  75 145]] [ 80  85 165]\n",
      "[[ 60  65 125]\n",
      " [ 70  75 145]\n",
      " [ 80  85 165]] [ 90  95 185]\n"
     ]
    }
   ],
   "source": [
    "# define input sequence\n",
    "in_seq1 = array([10, 20, 30, 40, 50, 60, 70, 80, 90])\n",
    "in_seq2 = array([15, 25, 35, 45, 55, 65, 75, 85, 95])\n",
    "out_seq = array([in_seq1[i]+in_seq2[i] for i in range(len(in_seq1))])\n",
    "\n",
    "# convert to [rows, columns] structure\n",
    "in_seq1 = in_seq1.reshape((len(in_seq1), 1))\n",
    "in_seq2 = in_seq2.reshape((len(in_seq2), 1))\n",
    "out_seq = out_seq.reshape((len(out_seq), 1))\n",
    "\n",
    "# horizontally stack columns\n",
    "dataset = hstack((in_seq1, in_seq2, out_seq))\n",
    "\n",
    "# choose a number of time steps\n",
    "n_steps = 3\n",
    "\n",
    "# convert into input/output\n",
    "X, y = split_sequences(dataset, n_steps)\n",
    "print(X.shape, y.shape)\n",
    "\n",
    "# summarize the data\n",
    "for i in range(len(X)):\n",
    "    print(X[i], y[i])"
   ]
  },
  {
   "cell_type": "markdown",
   "metadata": {},
   "source": [
    "### 6.\n",
    "Run the given code 3 times. Show input and all outputs."
   ]
  },
  {
   "cell_type": "code",
   "execution_count": 34,
   "metadata": {},
   "outputs": [
    {
     "name": "stdout",
     "output_type": "stream",
     "text": [
      "Multivariate Stacked LSTM, run 1: [[101.29086 106.05054 208.67036]]\n",
      "Multivariate Stacked LSTM, run 2: [[101.12802 107.11191 208.00426]]\n",
      "Multivariate Stacked LSTM, run 3: [[100.28194 104.88491 204.3823 ]]\n",
      "\n",
      "Input:\n",
      "[[[ 70  75 145]\n",
      "  [ 80  85 165]\n",
      "  [ 90  95 185]]]\n"
     ]
    }
   ],
   "source": [
    "# define input sequence\n",
    "in_seq1 = array([10, 20, 30, 40, 50, 60, 70, 80, 90])\n",
    "in_seq2 = array([15, 25, 35, 45, 55, 65, 75, 85, 95])\n",
    "out_seq = array([in_seq1[i]+in_seq2[i] for i in range(len(in_seq1))])\n",
    "\n",
    "# convert to [rows, columns] structure\n",
    "in_seq1 = in_seq1.reshape((len(in_seq1), 1))\n",
    "in_seq2 = in_seq2.reshape((len(in_seq2), 1))\n",
    "out_seq = out_seq.reshape((len(out_seq), 1))\n",
    "\n",
    "# horizontally stack columns\n",
    "dataset = hstack((in_seq1, in_seq2, out_seq))\n",
    "\n",
    "# choose a number of time steps\n",
    "n_steps = 3\n",
    "\n",
    "# convert into input/output\n",
    "X, y = split_sequences(dataset, n_steps)\n",
    "\n",
    "# the dataset knows the number of features, e.g. 2\n",
    "n_features = X.shape[2]\n",
    "\n",
    "for run in range(3):\n",
    "    # define model\n",
    "    model = Sequential()\n",
    "    model.add(LSTM(100, activation='relu', return_sequences=True,\n",
    "    input_shape=(n_steps, n_features)))\n",
    "    model.add(LSTM(100, activation='relu'))\n",
    "    model.add(Dense(n_features))\n",
    "    model.compile(optimizer='adam', loss='mse')\n",
    "\n",
    "    # fit model\n",
    "    model.fit(X, y, epochs=400, verbose=0)\n",
    "\n",
    "    # demonstrate prediction\n",
    "    x_input = array([[70,75,145], [80,85,165], [90,95,185]])\n",
    "    x_input = x_input.reshape((1, n_steps, n_features))\n",
    "    yhat = model.predict(x_input, verbose=0)\n",
    "\n",
    "    print(f\"Multivariate Stacked LSTM, run {run+1}: {yhat}\")\n",
    "    \n",
    "print(f\"\\nInput:\\n{x_input}\")"
   ]
  },
  {
   "cell_type": "markdown",
   "metadata": {},
   "source": [
    "### 7.\n",
    "Change the activation function from 'relu' to 2 others. Run each 3 times show code and all outputs."
   ]
  },
  {
   "cell_type": "code",
   "execution_count": 39,
   "metadata": {},
   "outputs": [
    {
     "name": "stdout",
     "output_type": "stream",
     "text": [
      "Multivariate Stacked LSTM, Tanh activation function, run 1: [[36.7414  39.74856 50.77862]]\n",
      "Multivariate Stacked LSTM, Tanh activation function, run 2: [[39.710213 39.667255 48.72996 ]]\n",
      "Multivariate Stacked LSTM, Tanh activation function, run 3: [[39.49917  42.013638 47.429005]]\n"
     ]
    }
   ],
   "source": [
    "for run in range(3):\n",
    "    # define model\n",
    "    model = Sequential()\n",
    "    model.add(LSTM(100, activation='tanh', return_sequences=True,  # Tanh activation function\n",
    "    input_shape=(n_steps, n_features)))\n",
    "    model.add(LSTM(100, activation='tanh'))\n",
    "    model.add(Dense(n_features))\n",
    "    model.compile(optimizer='adam', loss='mse')\n",
    "\n",
    "    # fit model\n",
    "    model.fit(X, y, epochs=400, verbose=0)\n",
    "\n",
    "    # demonstrate prediction\n",
    "    x_input = array([[70,75,145], [80,85,165], [90,95,185]])\n",
    "    x_input = x_input.reshape((1, n_steps, n_features))\n",
    "    yhat = model.predict(x_input, verbose=0)\n",
    "\n",
    "    print(f\"Multivariate Stacked LSTM, Tanh activation function, run {run+1}: {yhat}\")"
   ]
  },
  {
   "cell_type": "code",
   "execution_count": 38,
   "metadata": {},
   "outputs": [
    {
     "name": "stdout",
     "output_type": "stream",
     "text": [
      "Multivariate Stacked LSTM, Sigmoid activation function, run 1: [[29.55159 28.58179 33.6874 ]]\n",
      "Multivariate Stacked LSTM, Sigmoid activation function, run 2: [[25.369205 25.362516 27.13043 ]]\n",
      "Multivariate Stacked LSTM, Sigmoid activation function, run 3: [[24.846397 22.968704 28.300774]]\n"
     ]
    }
   ],
   "source": [
    "for run in range(3):\n",
    "    # define model\n",
    "    model = Sequential()\n",
    "    model.add(LSTM(100, activation='sigmoid', return_sequences=True,  # Sigmoid activation function\n",
    "    input_shape=(n_steps, n_features)))\n",
    "    model.add(LSTM(100, activation='sigmoid'))\n",
    "    model.add(Dense(n_features))\n",
    "    model.compile(optimizer='adam', loss='mse')\n",
    "\n",
    "    # fit model\n",
    "    model.fit(X, y, epochs=400, verbose=0)\n",
    "\n",
    "    # demonstrate prediction\n",
    "    x_input = array([[70,75,145], [80,85,165], [90,95,185]])\n",
    "    x_input = x_input.reshape((1, n_steps, n_features))\n",
    "    yhat = model.predict(x_input, verbose=0)\n",
    "\n",
    "    print(f\"Multivariate Stacked LSTM, Sigmoid activation function, run {run+1}: {yhat}\")"
   ]
  },
  {
   "cell_type": "markdown",
   "metadata": {},
   "source": [
    "### 8.\n",
    "What are the primary differences between the two LSTM models? Describe and explain what is occuring differently."
   ]
  },
  {
   "cell_type": "markdown",
   "metadata": {},
   "source": [
    "In a Multivariate Vanilla LSTM the last of the timeseries data is being predicted based on the input of the other (multiple) timeseries data. In a Multivariate Stacked LSTM all timeseries data is being predicted, which can be referred to as 'multivariate forecasting'."
   ]
  },
  {
   "cell_type": "markdown",
   "metadata": {},
   "source": [
    "### 9.\n",
    "Provide a single table that illustrates the different LSTM models, the activation functions used, and the average of the 3 results (predictions) you received to 3 decimal places. What are the general findings?"
   ]
  },
  {
   "cell_type": "markdown",
   "metadata": {},
   "source": [
    "| LSTM Model | Activation Function Used | Avg. of 3 Results | General Findings |\n",
    "| ---------- | ------------------------ | ----------------- | ---------------- |\n",
    "| MV Vanilla | Relu                     | 210.362           | 2nd most accurate |\n",
    "| MV Vanilla | Tanh                     | 010.285           | Completely inaccurate |\n",
    "| MV Vanilla | Sigmoid                  | 006.938           | Completely inaccurate |\n",
    "| MV Stacked | Relu                     | 100.900, 106.016, 207.019 | 1st most accurate |\n",
    "| MV Stacked | Tanh                     | 038.65, 040.477, 048.979  | Completely inaccurate |\n",
    "| MV Stacked | Sigmoid                  | 026.589, 025.638, 29.706  | Completely inaccurate |"
   ]
  }
 ],
 "metadata": {
  "kernelspec": {
   "display_name": "Python 3",
   "language": "python",
   "name": "python3"
  },
  "language_info": {
   "codemirror_mode": {
    "name": "ipython",
    "version": 3
   },
   "file_extension": ".py",
   "mimetype": "text/x-python",
   "name": "python",
   "nbconvert_exporter": "python",
   "pygments_lexer": "ipython3",
   "version": "3.6.7"
  }
 },
 "nbformat": 4,
 "nbformat_minor": 2
}
